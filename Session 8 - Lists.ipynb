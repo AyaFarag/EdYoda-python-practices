{
 "cells": [
  {
   "cell_type": "code",
   "execution_count": null,
   "metadata": {},
   "outputs": [],
   "source": [
    "# first you have to write the approch\n",
    "# then start to code\n"
   ]
  },
  {
   "cell_type": "code",
   "execution_count": 22,
   "metadata": {},
   "outputs": [
    {
     "name": "stdout",
     "output_type": "stream",
     "text": [
      "b 14\n"
     ]
    }
   ],
   "source": [
    "s = \"aaabbbbbbbbassssscccccbbbbbb\"\n",
    "max_count = 0\n",
    "max_char = ''\n",
    "for value in s:\n",
    "    if max_count < s.count(value):\n",
    "        max_count = s.count(value)\n",
    "        max_char = value\n",
    "print(max_char,max_count)\n",
    "    "
   ]
  },
  {
   "cell_type": "code",
   "execution_count": null,
   "metadata": {},
   "outputs": [],
   "source": [
    "list :\n",
    "    -mutable => add/update/delete\n",
    "    -ordered => indexing / slicing\n",
    "    -heretogenious => any data type in list\n",
    "    \n",
    "    add:\n",
    "        append() => \n",
    "        extent()\n",
    "        insert()\n",
    "        \n",
    "built in functions:\n",
    "    ord() => gives you the ascii value for the char\n",
    "    chr() => gives you the chr for the ascii no you add\n",
    "    range() => gives you range between two numbers\n",
    "            "
   ]
  },
  {
   "cell_type": "code",
   "execution_count": 37,
   "metadata": {},
   "outputs": [
    {
     "name": "stdout",
     "output_type": "stream",
     "text": [
      "['a', 'b', 'c', 'd', 'e', 'f', 'g', 'h', 'i', 'j', 'k', 'l', 'm', 'n', 'o', 'p', 'q', 'r', 's', 't', 'u', 'v', 'w', 'x', 'y', 'z']\n"
     ]
    }
   ],
   "source": [
    "# ##### first you have to write the approch\n",
    "# Define a list to store the values\n",
    "# start => a list to store the chars\n",
    "# find ascii for 'a' => 'z'\n",
    "# generate range numbers for given ascii values\n",
    "# append the char into the list\n",
    "\n",
    "alpha = []\n",
    "for char in range(ord('a'),ord('z')+1):\n",
    "    alpha.append(chr(char))\n",
    "print(alpha)"
   ]
  },
  {
   "cell_type": "code",
   "execution_count": 38,
   "metadata": {},
   "outputs": [
    {
     "name": "stdout",
     "output_type": "stream",
     "text": [
      "['__add__', '__class__', '__contains__', '__delattr__', '__delitem__', '__dir__', '__doc__', '__eq__', '__format__', '__ge__', '__getattribute__', '__getitem__', '__gt__', '__hash__', '__iadd__', '__imul__', '__init__', '__init_subclass__', '__iter__', '__le__', '__len__', '__lt__', '__mul__', '__ne__', '__new__', '__reduce__', '__reduce_ex__', '__repr__', '__reversed__', '__rmul__', '__setattr__', '__setitem__', '__sizeof__', '__str__', '__subclasshook__', 'append', 'clear', 'copy', 'count', 'extend', 'index', 'insert', 'pop', 'remove', 'reverse', 'sort']\n"
     ]
    }
   ],
   "source": [
    "print(dir(list))"
   ]
  },
  {
   "cell_type": "code",
   "execution_count": 55,
   "metadata": {},
   "outputs": [
    {
     "name": "stdout",
     "output_type": "stream",
     "text": [
      "[1, 2, 3, 4, 10, 20, 30, 40, 45, 50, 85, 100, 200, 300]\n"
     ]
    }
   ],
   "source": [
    "l1 = [10,20,30,40,50,200,300,45,1,2,3,4]\n",
    "l2 = [100,200,10,10,20,30,45,85,100,200]\n",
    "\n",
    "l1.extend(l2)\n",
    "l1.sort()\n",
    "l3 = []\n",
    "for value in l1:\n",
    "    if value not in l3:\n",
    "        l3.append(value)\n",
    "print(l3)\n"
   ]
  }
 ],
 "metadata": {
  "kernelspec": {
   "display_name": "Python 3",
   "language": "python",
   "name": "python3"
  },
  "language_info": {
   "codemirror_mode": {
    "name": "ipython",
    "version": 3
   },
   "file_extension": ".py",
   "mimetype": "text/x-python",
   "name": "python",
   "nbconvert_exporter": "python",
   "pygments_lexer": "ipython3",
   "version": "3.7.4"
  }
 },
 "nbformat": 4,
 "nbformat_minor": 2
}
