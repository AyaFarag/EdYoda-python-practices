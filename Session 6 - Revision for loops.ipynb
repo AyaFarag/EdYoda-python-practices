{
 "cells": [
  {
   "cell_type": "code",
   "execution_count": 24,
   "metadata": {},
   "outputs": [
    {
     "name": "stdout",
     "output_type": "stream",
     "text": [
      "100\n"
     ]
    }
   ],
   "source": [
    "# get max value in the list\n",
    "i = [10,20,50,100,70]\n",
    "max = 0\n",
    "for value in i: \n",
    "    if value > max:\n",
    "        max = value\n",
    "#     else:              // not important\n",
    "#         continue       // not important\n",
    "print(max)\n",
    "     "
   ]
  }
 ],
 "metadata": {
  "kernelspec": {
   "display_name": "Python 3",
   "language": "python",
   "name": "python3"
  },
  "language_info": {
   "codemirror_mode": {
    "name": "ipython",
    "version": 3
   },
   "file_extension": ".py",
   "mimetype": "text/x-python",
   "name": "python",
   "nbconvert_exporter": "python",
   "pygments_lexer": "ipython3",
   "version": "3.7.4"
  }
 },
 "nbformat": 4,
 "nbformat_minor": 2
}
