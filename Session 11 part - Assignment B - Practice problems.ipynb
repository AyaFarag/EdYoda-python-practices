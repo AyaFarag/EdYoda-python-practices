{
 "cells": [
  {
   "cell_type": "code",
   "execution_count": 2,
   "metadata": {},
   "outputs": [
    {
     "name": "stdout",
     "output_type": "stream",
     "text": [
      "\n"
     ]
    }
   ],
   "source": [
    "# 1.Write a program, which will find all such numbers between 1000 and 3000 (both included) such that each digit of\n",
    "#   the number is an even number. Add all such elements into the list and print the list.\n",
    "\n",
    "even = []\n",
    "for value in range(1000,3000):\n",
    "    if value %2 == 0:\n",
    "        even.append(value)\n",
    "print(even)\n",
    "        "
   ]
  },
  {
   "cell_type": "code",
   "execution_count": null,
   "metadata": {},
   "outputs": [],
   "source": [
    "# 2.Write a program to find all pairs in a list of Integers Whose sum is equal to a given Number.\n",
    "\n",
    "# For example nums = [1,2,3,4,5] sum = 7\n",
    "\n",
    "# expected output is ans = [(3,4),(2,5),(4,3),(5,2)]\n",
    "\n",
    "sum_list = []\n",
    "for value in sum\n",
    "\n"
   ]
  }
 ],
 "metadata": {
  "kernelspec": {
   "display_name": "Python 3",
   "language": "python",
   "name": "python3"
  },
  "language_info": {
   "codemirror_mode": {
    "name": "ipython",
    "version": 3
   },
   "file_extension": ".py",
   "mimetype": "text/x-python",
   "name": "python",
   "nbconvert_exporter": "python",
   "pygments_lexer": "ipython3",
   "version": "3.7.4"
  }
 },
 "nbformat": 4,
 "nbformat_minor": 2
}
