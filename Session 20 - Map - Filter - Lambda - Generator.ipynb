{
 "cells": [
  {
   "cell_type": "code",
   "execution_count": 1,
   "metadata": {},
   "outputs": [
    {
     "name": "stdout",
     "output_type": "stream",
     "text": [
      "<generator object fibo at 0x000001EA341EAB48>\n",
      "1\n",
      "2\n",
      "3\n"
     ]
    }
   ],
   "source": [
    "def fibo():\n",
    "    first_num = 0\n",
    "    sec_num = 1\n",
    "    while(True):\n",
    "        next_num = first_num + sec_num\n",
    "        yield next_num\n",
    "        first_num,sec_num = sec_num,next_num\n",
    "        \n",
    "r = fibo()\n",
    "print(r)\n",
    "print(next(r))\n",
    "print(next(r))\n",
    "print(next(r))"
   ]
  }
 ],
 "metadata": {
  "kernelspec": {
   "display_name": "Python 3",
   "language": "python",
   "name": "python3"
  },
  "language_info": {
   "codemirror_mode": {
    "name": "ipython",
    "version": 3
   },
   "file_extension": ".py",
   "mimetype": "text/x-python",
   "name": "python",
   "nbconvert_exporter": "python",
   "pygments_lexer": "ipython3",
   "version": "3.7.4"
  }
 },
 "nbformat": 4,
 "nbformat_minor": 2
}
