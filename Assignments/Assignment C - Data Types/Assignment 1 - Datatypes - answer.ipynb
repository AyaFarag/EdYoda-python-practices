{
 "cells": [
  {
   "cell_type": "code",
   "execution_count": 146,
   "metadata": {},
   "outputs": [
    {
     "name": "stdout",
     "output_type": "stream",
     "text": [
      "numbers_to_chars(10)\n"
     ]
    }
   ],
   "source": [
    "# 1.\n",
    "def numbers_to_chars(num):\n",
    "    numbers = [2,3,4,5,6,7,8,9]\n",
    "    chars = [{a,b,c},{d,e,f},{g,h,i},{j,k,l},{m,n,o},{p,q,r,s},{t,u,v},{w,x,y,z}]\n",
    "    \n",
    "    word = \"\"\n",
    "    i = 0\n",
    "    \n",
    "    for _ in range(num // numbers[i]):\n",
    "        word += chars[i][list[i]]\n",
    "        num -= numbers[i]\n",
    "    i += 1\n",
    "    return word\n",
    "        \n",
    "    \n",
    "print(numbers_to_chars(10))    "
   ]
  },
  {
   "cell_type": "code",
   "execution_count": 18,
   "metadata": {},
   "outputs": [
    {
     "name": "stdout",
     "output_type": "stream",
     "text": [
      "{'Bombay': 'Delhi', 'Delhi': 'Goa', 'Goa': 'Chennai', 'Chennai': 'Banglore'}\n"
     ]
    }
   ],
   "source": [
    "# 2.\n",
    "d = {\"Chennai\":\"Banglore\",\"Bombay\":\"Delhi\",\"Goa\":\"Chennai\",\"Delhi\":\"Goa\"}\n",
    "\n",
    "d2 = {\"Bombay\":\"Delhi\",\"Delhi\":\"Goa\",\"Goa\":\"Chennai\",\"Chennai\":\"Banglore\"}\n",
    "\n",
    "def travel_sequence(dic):\n",
    "    d3 = {}\n",
    "    for value in dic.items():\n",
    "        d3.setdefault(value[0],value[1])\n",
    "    print(d3)\n",
    "travel_sequence(d2)        "
   ]
  },
  {
   "cell_type": "code",
   "execution_count": 33,
   "metadata": {},
   "outputs": [
    {
     "name": "stdout",
     "output_type": "stream",
     "text": [
      "{'Concord': 'New Hampshire', 'Hanover': 'New Hampshire', 'Boston': 'Massachusetts', 'Springfield': 'Massachusetts', 'Chicago': 'Illinois', 'Peoria': 'Illinois'}\n"
     ]
    }
   ],
   "source": [
    "# 3.\n",
    "states = {\n",
    "#     state             city\n",
    "    'New Hampshire': ['Concord', 'Hanover'],\n",
    "    'Massachusetts': ['Boston', 'Concord', 'Springfield'],\n",
    "    'Illinois': ['Chicago', 'Springfield', 'Peoria'] \n",
    "}\n",
    "\n",
    "# cities = {\n",
    "#     'Hanover': ['New Hampshire'],\n",
    "#     'Chicago': ['Illinois'],\n",
    "#     'Boston': ['Massachusetts'],\n",
    "#     'Peoria': ['Illinois'],\n",
    "#     'Concord': ['New Hampshire','Massachusetts'],\n",
    "#     'Springfield': ['Massachusetts', 'Illinois'] \n",
    "# }\n",
    "\n",
    "def  city_with_states(states):\n",
    "    cities = {}\n",
    "\n",
    "    for state,listOfCityies in states.items():\n",
    "        for city in listOfCityies:            \n",
    "            cities.setdefault(city,state)\n",
    "            \n",
    "    return cities\n",
    "        \n",
    "print(city_with_states(states))"
   ]
  },
  {
   "cell_type": "code",
   "execution_count": 123,
   "metadata": {},
   "outputs": [
    {
     "name": "stdout",
     "output_type": "stream",
     "text": [
      "Not Balanced\n"
     ]
    }
   ],
   "source": [
    "# 4.\n",
    "def check_parentheses(str):\n",
    "    s= []\n",
    "    for i in range(len(str)):\n",
    "        if str[i] == \"(\" or str[i] == \"{\" or str[i] == \"[\":\n",
    "            s.append(str[i])\n",
    "            \n",
    "        if len(str) == 0:\n",
    "            return False\n",
    "        \n",
    "        if str[i] == \")\":\n",
    "            x = s.pop();\n",
    "            if x == \"}\" or x == \"]\":\n",
    "                return False\n",
    "#             else:\n",
    "#                 return True\n",
    "        elif str[i] == \"}\":\n",
    "            x = s.pop();\n",
    "            if x == \")\" or x == \"]\":\n",
    "                return False\n",
    "#             else:\n",
    "#                 return True\n",
    "        elif str[i] == \"]\":\n",
    "            x = s.pop();\n",
    "            if x == \"}\" or x == \")\":\n",
    "                return False\n",
    "#             else:\n",
    "#                 return True\n",
    "    if len(s): \n",
    "        return True\n",
    "    else: \n",
    "        return False\n",
    "            \n",
    "            \n",
    "            \n",
    "            \n",
    "    \n",
    "    \n",
    "str = \"[{()}]\";  \n",
    "# print(check_parentheses(str))\n",
    "if check_parentheses(str): \n",
    "    print(\"Balanced\");  \n",
    "else : \n",
    "    print(\"Not Balanced\");  "
   ]
  },
  {
   "cell_type": "code",
   "execution_count": 145,
   "metadata": {},
   "outputs": [
    {
     "name": "stdout",
     "output_type": "stream",
     "text": [
      "LV\n"
     ]
    }
   ],
   "source": [
    "# 5.\n",
    "def int_roman(num):\n",
    "    value = [1000, 900, 500, 400,100, 90, 50, 40,10, 9, 5, 4,1]\n",
    "    romans = [\"M\", \"CM\", \"D\", \"CD\",\"C\", \"XC\", \"L\", \"XL\",\"X\", \"IX\", \"V\", \"IV\",\"I\"]\n",
    "    \n",
    "    roman_num = ''\n",
    "    i = 0\n",
    "    while  num > 0:\n",
    "        for _ in range(num // value[i]):\n",
    "            roman_num += romans[i] \n",
    "            num -= value[i]\n",
    "        i += 1\n",
    "        \n",
    "    return roman_num\n",
    "\n",
    "print(int_roman(55))"
   ]
  },
  {
   "cell_type": "code",
   "execution_count": 218,
   "metadata": {},
   "outputs": [
    {
     "data": {
      "text/plain": [
       "28"
      ]
     },
     "execution_count": 218,
     "metadata": {},
     "output_type": "execute_result"
    }
   ],
   "source": [
    "# 6.\n",
    "fp = open(\"sixproblemstatement.txt\",\"r\",encoding=\"utf-8\")\n",
    "\n",
    "def count_code_lines(fp):\n",
    "    counter = 0\n",
    "    for line in fp:\n",
    "        line = line.strip(\" \")\n",
    "        if line[0] == \"/\" and line[1] == \"/\":\n",
    "            counter == counter\n",
    "        else:\n",
    "            counter += 1\n",
    "    fp.close()\n",
    "    return counter\n",
    "    \n",
    "count_code_lines(fp)"
   ]
  },
  {
   "cell_type": "code",
   "execution_count": 244,
   "metadata": {},
   "outputs": [],
   "source": [
    "import random"
   ]
  },
  {
   "cell_type": "code",
   "execution_count": 250,
   "metadata": {},
   "outputs": [
    {
     "name": "stdout",
     "output_type": "stream",
     "text": [
      "check_password_strength(password)\n"
     ]
    }
   ],
   "source": [
    "# 7.\n",
    "\n",
    "# The length of the password must be at least 8 characters in length \n",
    "# The password must contain at least 1 capital letter \n",
    "# The password must contain at least 1 digit \n",
    "# The password must contain at least 1 special character and allowed special characters are (!,@,#,$,&)\n",
    "\n",
    "def check_password_strength(password):\n",
    "    error = []\n",
    "    capital_letter = chr(random.randint(ord('A'),ord('Z')))\n",
    "    digit = str(random.randint(10000,99999)) \n",
    "    special_character = random.choice([\"!\",\"@\",\"#\",\"$\",\"&\"])\n",
    "\n",
    "    strong_password = capital_letter+digit+special_character\n",
    "    constrains = random.sample(strong_password,8)\n",
    "    password = (\"\").join(constrains)\n",
    "    \n",
    "    if password:\n",
    "        return password\n",
    "    else:\n",
    "        password = password.split(\",\") #list\n",
    "        for _ in password:\n",
    "            if password[i] not in capital_letter:\n",
    "                error.append(\"your password must contains capital letter\")\n",
    "            if password[i] not in digit:\n",
    "                error.append(\"your password must contains digits\")\n",
    "            if password[i] not in special_character:\n",
    "                error.append(\"your password must contains special character\")\n",
    "\n",
    "            if password[i] not in capital_letter and char not in digit and char not in special_character:\n",
    "                error.append(\"your password must be in capital letter and digits and special char like !,@,#,$,& \")\n",
    "            if len(password) != 8:\n",
    "                error.append(\"your password must be 8 length\")\n",
    "\n",
    "\n",
    "           \n",
    "                                       \n",
    "        return error\n",
    "    \n",
    "    \n",
    "password = \"aA123\"    \n",
    "print(check_password_strength(password))"
   ]
  },
  {
   "cell_type": "code",
   "execution_count": null,
   "metadata": {},
   "outputs": [],
   "source": [
    "# 8.\n",
    "def check_sentence(str):"
   ]
  },
  {
   "cell_type": "code",
   "execution_count": null,
   "metadata": {},
   "outputs": [],
   "source": [
    "# 9.\n",
    "def  greatest_sub_array(list):"
   ]
  },
  {
   "cell_type": "code",
   "execution_count": null,
   "metadata": {},
   "outputs": [],
   "source": [
    "# 10.\n",
    "def  adj_sum_even(list):"
   ]
  }
 ],
 "metadata": {
  "kernelspec": {
   "display_name": "Python 3",
   "language": "python",
   "name": "python3"
  },
  "language_info": {
   "codemirror_mode": {
    "name": "ipython",
    "version": 3
   },
   "file_extension": ".py",
   "mimetype": "text/x-python",
   "name": "python",
   "nbconvert_exporter": "python",
   "pygments_lexer": "ipython3",
   "version": "3.7.4"
  }
 },
 "nbformat": 4,
 "nbformat_minor": 2
}
