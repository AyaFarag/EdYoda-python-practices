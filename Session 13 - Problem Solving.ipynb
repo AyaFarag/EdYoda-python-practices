{
 "cells": [
  {
   "cell_type": "code",
   "execution_count": null,
   "metadata": {},
   "outputs": [],
   "source": [
    "# count the profit\n",
    "share_prices = [100,120,150,50,75,145,90]\n",
    "\n",
    "buy_once\n",
    "sell_once\n",
    "\n",
    "max_profit\n",
    "\n",
    "profit :\n",
    "    buy 100 sell 120\n",
    "    buy 100 sell 150\n",
    "    buy 100 sell 145\n",
    "    \n",
    "    buy 50 sell 145\n",
    "    buy 50 sell 90"
   ]
  },
  {
   "cell_type": "code",
   "execution_count": 46,
   "metadata": {},
   "outputs": [
    {
     "name": "stdout",
     "output_type": "stream",
     "text": [
      "90\n",
      "150\n",
      "60\n"
     ]
    }
   ],
   "source": [
    "share_prices = [100,120,150,50,75,145,90]\n",
    "\n",
    "buy = 0\n",
    "sell = 0\n",
    "\n",
    "for value in share_prices:\n",
    "    if value > sell:\n",
    "        sell = value\n",
    "    else:\n",
    "        buy = value\n",
    "    max_profit = sell - buy\n",
    "print(buy) #90\n",
    "print(sell) # 150\n",
    "print(max_profit) #60"
   ]
  },
  {
   "cell_type": "code",
   "execution_count": 47,
   "metadata": {},
   "outputs": [
    {
     "name": "stdout",
     "output_type": "stream",
     "text": [
      "150\n"
     ]
    }
   ],
   "source": [
    "share_prices = [100,120,150,50,75,145,90]\n",
    "\n",
    "sell = max(set(share_prices))\n",
    "print(sell)"
   ]
  }
 ],
 "metadata": {
  "kernelspec": {
   "display_name": "Python 3",
   "language": "python",
   "name": "python3"
  },
  "language_info": {
   "codemirror_mode": {
    "name": "ipython",
    "version": 3
   },
   "file_extension": ".py",
   "mimetype": "text/x-python",
   "name": "python",
   "nbconvert_exporter": "python",
   "pygments_lexer": "ipython3",
   "version": "3.7.4"
  }
 },
 "nbformat": 4,
 "nbformat_minor": 2
}
