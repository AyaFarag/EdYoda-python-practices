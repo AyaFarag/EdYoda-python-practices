{
 "cells": [
  {
   "cell_type": "code",
   "execution_count": 10,
   "metadata": {},
   "outputs": [
    {
     "name": "stdout",
     "output_type": "stream",
     "text": [
      "type your num6\n",
      "even\n"
     ]
    }
   ],
   "source": [
    "# check if input is even or odd\n",
    "num = input(\"type your num\")\n",
    "if int(num) % 2 == 0:\n",
    "    print(\"even\")\n",
    "elif int(num) % 2 == 1:\n",
    "    print(\"odd\")"
   ]
  },
  {
   "cell_type": "code",
   "execution_count": 12,
   "metadata": {},
   "outputs": [
    {
     "name": "stdout",
     "output_type": "stream",
     "text": [
      "type your alphat\n",
      "constant\n"
     ]
    }
   ],
   "source": [
    "# check if the input is vowel or constont\n",
    "char = input(\"type your alpha\")\n",
    "if char in [\"a\",\"e\",\"i\",\"o\",\"u\"]:\n",
    "     print(\"vowel\")\n",
    "else:\n",
    "    print(\"constant\")\n"
   ]
  }
 ],
 "metadata": {
  "kernelspec": {
   "display_name": "Python 3",
   "language": "python",
   "name": "python3"
  },
  "language_info": {
   "codemirror_mode": {
    "name": "ipython",
    "version": 3
   },
   "file_extension": ".py",
   "mimetype": "text/x-python",
   "name": "python",
   "nbconvert_exporter": "python",
   "pygments_lexer": "ipython3",
   "version": "3.7.4"
  }
 },
 "nbformat": 4,
 "nbformat_minor": 2
}
