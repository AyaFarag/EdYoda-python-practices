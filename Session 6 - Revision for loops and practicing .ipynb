{
 "cells": [
  {
   "cell_type": "code",
   "execution_count": 24,
   "metadata": {},
   "outputs": [
    {
     "name": "stdout",
     "output_type": "stream",
     "text": [
      "100\n"
     ]
    }
   ],
   "source": [
    "# get max value in the list\n",
    "i = [10,20,50,100,70]\n",
    "max = 0\n",
    "for value in i: \n",
    "    if value > max:\n",
    "        max = value\n",
    "#     else:              // not important\n",
    "#         continue       // not important\n",
    "print(max)\n",
    "     "
   ]
  },
  {
   "cell_type": "code",
   "execution_count": null,
   "metadata": {},
   "outputs": [],
   "source": [
    "# get max1 and max2 in list ==> not understandable\n",
    "i = [10,20,50,100,70]\n",
    "max1 = 0\n",
    "max2 = 0\n",
    "for value in i:\n",
    "    if value > max1 and value > max2:\n",
    "        max2 = max1\n",
    "        max1 = value\n",
    "    elif value < max1 and value > max2:\n",
    "        max2 = value\n",
    "    elif value > max1 and value > max2:\n",
    "        max2 = max1\n",
    "        max1 = value"
   ]
  },
  {
   "cell_type": "code",
   "execution_count": 27,
   "metadata": {
    "scrolled": true
   },
   "outputs": [
    {
     "name": "stdout",
     "output_type": "stream",
     "text": [
      "1\t2\t3\t4\t5\t\n",
      "\n",
      "2\t4\t6\t8\t10\t\n",
      "\n",
      "3\t6\t9\t12\t15\t\n",
      "\n",
      "4\t8\t12\t16\t20\t\n",
      "\n",
      "5\t10\t15\t20\t25\t\n",
      "\n",
      "6\t12\t18\t24\t30\t\n",
      "\n",
      "7\t14\t21\t28\t35\t\n",
      "\n",
      "8\t16\t24\t32\t40\t\n",
      "\n",
      "9\t18\t27\t36\t45\t\n",
      "\n",
      "10\t20\t30\t40\t50\t\n",
      "\n"
     ]
    }
   ],
   "source": [
    "# create table // nested loop\n",
    "# range(1,10)\n",
    "\n",
    "for v1 in range(1,11):\n",
    "    for v2 in range(1,6):\n",
    "        print(v1*v2, end = \"\\t\")\n",
    "    print(\"\\n\")"
   ]
  },
  {
   "cell_type": "code",
   "execution_count": 4,
   "metadata": {},
   "outputs": [
    {
     "name": "stdout",
     "output_type": "stream",
     "text": [
      "1\n",
      "2\n",
      "3\n",
      "4\n",
      "5\n",
      "6\n"
     ]
    }
   ],
   "source": [
    "sum = 0\n",
    "count = 0\n",
    "while count <= 5:\n",
    "    sum = sum + count\n",
    "    count+=1\n",
    "    print(count)"
   ]
  },
  {
   "cell_type": "code",
   "execution_count": 9,
   "metadata": {},
   "outputs": [
    {
     "name": "stdout",
     "output_type": "stream",
     "text": [
      "120\n"
     ]
    }
   ],
   "source": [
    "# get the factorual of number \n",
    "num = 5 \n",
    "fact = 1\n",
    "while num > 0:\n",
    "    fact *= num\n",
    "    num -=1\n",
    "print(fact)\n"
   ]
  }
 ],
 "metadata": {
  "kernelspec": {
   "display_name": "Python 3",
   "language": "python",
   "name": "python3"
  },
  "language_info": {
   "codemirror_mode": {
    "name": "ipython",
    "version": 3
   },
   "file_extension": ".py",
   "mimetype": "text/x-python",
   "name": "python",
   "nbconvert_exporter": "python",
   "pygments_lexer": "ipython3",
   "version": "3.7.4"
  }
 },
 "nbformat": 4,
 "nbformat_minor": 2
}
