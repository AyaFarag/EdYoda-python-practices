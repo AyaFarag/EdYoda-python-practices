{
 "cells": [
  {
   "cell_type": "code",
   "execution_count": 3,
   "metadata": {},
   "outputs": [
    {
     "name": "stdout",
     "output_type": "stream",
     "text": [
      "vowel\n",
      "consonent\n",
      "consonent\n",
      "vowel\n",
      "consonent\n",
      "vowel\n"
     ]
    }
   ],
   "source": [
    "# example for vowel or consonent\n",
    "s = \"abcefi\"\n",
    "for char in s:\n",
    "    if char in ['a','e','o','i','u']:\n",
    "        print(\"vowel\")\n",
    "    else:\n",
    "        print('consonent')"
   ]
  },
  {
   "cell_type": "code",
   "execution_count": 6,
   "metadata": {},
   "outputs": [
    {
     "name": "stdout",
     "output_type": "stream",
     "text": [
      "1 odd 1\n",
      "2 even 4\n",
      "3 odd 27\n",
      "4 even 16\n",
      "5 odd 125\n",
      "6 even 36\n",
      "7 odd 343\n",
      "8 even 64\n"
     ]
    }
   ],
   "source": [
    "# if even[print it's squar] or if odd[print it's cube]\n",
    "\n",
    "no = [1,2,3,4,5,6,7,8]\n",
    "for value in no:\n",
    "    if value %2 ==0:\n",
    "        print(value, \"even\", value**2)\n",
    "    elif value %2 ==1:\n",
    "        print(value,\"odd\",value**3)\n"
   ]
  },
  {
   "cell_type": "code",
   "execution_count": 7,
   "metadata": {},
   "outputs": [
    {
     "name": "stdout",
     "output_type": "stream",
     "text": [
      "10 sum is : 10\n",
      "20 sum is : 30\n",
      "30 sum is : 60\n",
      "40 sum is : 100\n",
      "50 sum is : 150\n"
     ]
    }
   ],
   "source": [
    "l = [10,20,30,40,50]\n",
    "sum =0\n",
    "for value in l:\n",
    "    sum = value + sum\n",
    "    print(value ,\"sum is :\",sum)"
   ]
  },
  {
   "cell_type": "code",
   "execution_count": 22,
   "metadata": {},
   "outputs": [
    {
     "name": "stdout",
     "output_type": "stream",
     "text": [
      "6\n",
      "this 6 is perfect number\n"
     ]
    }
   ],
   "source": [
    "# sum of possibal divisors equal => perfect number\n",
    "num = 6\n",
    "sum = 0\n",
    "possibal_divisors = [1,2,3,4,5]\n",
    "for value in possibal_divisors:\n",
    "    if num % value == 0:\n",
    "        sum = sum + value\n",
    "print(sum)\n",
    "if num == sum:\n",
    "     print(\"this\", num, \"is perfect number\")"
   ]
  },
  {
   "cell_type": "code",
   "execution_count": null,
   "metadata": {},
   "outputs": [],
   "source": [
    "range(10) 0,1,2 ..... 9\n",
    "range(10,50) 10,11,12 .... 49\n",
    "range(10,50,5) 10,15,20,25 ... 45"
   ]
  },
  {
   "cell_type": "code",
   "execution_count": 44,
   "metadata": {},
   "outputs": [
    {
     "name": "stdout",
     "output_type": "stream",
     "text": [
      "6\n",
      "this 6 is perfect number\n"
     ]
    }
   ],
   "source": [
    "# nums = range(100)\n",
    "sum = 0\n",
    "num =6\n",
    "# for num in nums:\n",
    "for value in range(1,num):\n",
    "    if num % value == 0:\n",
    "        sum = sum + value\n",
    "print(sum)\n",
    "if num == sum:\n",
    "    print(\"this\", num, \"is perfect number\")\n"
   ]
  },
  {
   "cell_type": "code",
   "execution_count": 51,
   "metadata": {},
   "outputs": [
    {
     "name": "stdout",
     "output_type": "stream",
     "text": [
      "key is not present in list\n"
     ]
    }
   ],
   "source": [
    "# linear algorithem\n",
    "# Break => if you want to stop the loop\n",
    "# continue => if you want to move to next iteration\n",
    "l= [10,20,30,40,50,60,70,80]\n",
    "key =500\n",
    "flag = False # flag attribute\n",
    "\n",
    "for num in l:\n",
    "    if num == key:\n",
    "        print(num)\n",
    "        present = True\n",
    "        break\n",
    "    else:\n",
    "        continue\n",
    "if flag:\n",
    "    print(\"key is present in list\")\n",
    "else:\n",
    "    print(\"key is not present in list\")"
   ]
  },
  {
   "cell_type": "code",
   "execution_count": 52,
   "metadata": {},
   "outputs": [
    {
     "name": "stdout",
     "output_type": "stream",
     "text": [
      "element is not present\n"
     ]
    }
   ],
   "source": [
    "# else block in for loop\n",
    "# it provided to be insteed of flag attr\n",
    "l= [10,20,30,40,50,60,70,80]\n",
    "key =500\n",
    "\n",
    "for num in l:\n",
    "    if num == key:\n",
    "        print(\"element is present\")\n",
    "        break\n",
    "else:\n",
    "    print(\"element is not present\")"
   ]
  },
  {
   "cell_type": "code",
   "execution_count": 53,
   "metadata": {},
   "outputs": [
    {
     "name": "stdout",
     "output_type": "stream",
     "text": [
      "0 10\n",
      "1 20\n",
      "2 30\n",
      "3 40\n",
      "4 50\n",
      "5 60\n",
      "6 70\n",
      "7 80\n"
     ]
    }
   ],
   "source": [
    "# enumerate(index,value)\n",
    "l= [10,20,30,40,50,60,70,80]\n",
    "for index,value in enumerate(l):\n",
    "    print(index,value)"
   ]
  }
 ],
 "metadata": {
  "kernelspec": {
   "display_name": "Python 3",
   "language": "python",
   "name": "python3"
  },
  "language_info": {
   "codemirror_mode": {
    "name": "ipython",
    "version": 3
   },
   "file_extension": ".py",
   "mimetype": "text/x-python",
   "name": "python",
   "nbconvert_exporter": "python",
   "pygments_lexer": "ipython3",
   "version": "3.7.4"
  }
 },
 "nbformat": 4,
 "nbformat_minor": 2
}
