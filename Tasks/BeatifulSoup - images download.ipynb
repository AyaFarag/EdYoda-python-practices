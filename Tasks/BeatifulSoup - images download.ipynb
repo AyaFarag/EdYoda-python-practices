{
 "cells": [
  {
   "cell_type": "code",
   "execution_count": 2,
   "metadata": {},
   "outputs": [],
   "source": [
    "import requests\n",
    "from bs4 import BeautifulSoup\n",
    "from os.path  import basename"
   ]
  },
  {
   "cell_type": "code",
   "execution_count": 4,
   "metadata": {},
   "outputs": [
    {
     "name": "stdout",
     "output_type": "stream",
     "text": [
      "<Response [403]>\n"
     ]
    }
   ],
   "source": [
    "r = requests.get(\"https://www.pexels.com/collections/cute-animals-17ey6em\")\n",
    "soup = BeautifulSoup(r.content)\n",
    "\n",
    "links = soup.find_all(\"img\",attrs = {\"class\":\"_2Xp0TH\"})\n",
    "\n",
    "for link in links:\n",
    "    if \"http\" in link.get('src'):\n",
    "        lnk = link.get('src')\n",
    "        with open(basename(lnk), \"wb\") as f:\n",
    "            f.write(requests.get(lnk).content)"
   ]
  }
 ],
 "metadata": {
  "kernelspec": {
   "display_name": "Python 3",
   "language": "python",
   "name": "python3"
  },
  "language_info": {
   "codemirror_mode": {
    "name": "ipython",
    "version": 3
   },
   "file_extension": ".py",
   "mimetype": "text/x-python",
   "name": "python",
   "nbconvert_exporter": "python",
   "pygments_lexer": "ipython3",
   "version": "3.7.4"
  }
 },
 "nbformat": 4,
 "nbformat_minor": 2
}
