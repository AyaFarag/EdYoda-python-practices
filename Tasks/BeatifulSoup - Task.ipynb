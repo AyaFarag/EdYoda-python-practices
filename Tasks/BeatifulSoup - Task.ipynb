{
 "cells": [
  {
   "cell_type": "code",
   "execution_count": 11,
   "metadata": {},
   "outputs": [],
   "source": [
    "import requests\n",
    "from bs4 import BeautifulSoup"
   ]
  },
  {
   "cell_type": "code",
   "execution_count": 12,
   "metadata": {},
   "outputs": [
    {
     "name": "stdout",
     "output_type": "stream",
     "text": [
      "<Response [200]>\n"
     ]
    }
   ],
   "source": [
    "response=requests.get(\"https://www.flipkart.com/mobiles/pr?sid=tyy,4io&marketplace=FLIPKART\")\n",
    "print(response)"
   ]
  },
  {
   "cell_type": "code",
   "execution_count": 24,
   "metadata": {},
   "outputs": [
    {
     "ename": "NameError",
     "evalue": "name 'ptint' is not defined",
     "output_type": "error",
     "traceback": [
      "\u001b[1;31m---------------------------------------------------------------------------\u001b[0m",
      "\u001b[1;31mNameError\u001b[0m                                 Traceback (most recent call last)",
      "\u001b[1;32m<ipython-input-24-3def61ada6a9>\u001b[0m in \u001b[0;36m<module>\u001b[1;34m\u001b[0m\n\u001b[0;32m     35\u001b[0m \u001b[1;31m#         print(\"title : {} , price :  {} , rating :  {} , seller name :  {} \".format(title_text,price_text,rating_text,seller_text))\u001b[0m\u001b[1;33m\u001b[0m\u001b[1;33m\u001b[0m\u001b[1;33m\u001b[0m\u001b[0m\n\u001b[0;32m     36\u001b[0m \u001b[1;33m\u001b[0m\u001b[0m\n\u001b[1;32m---> 37\u001b[1;33m \u001b[0mptint\u001b[0m\u001b[1;33m(\u001b[0m\u001b[0mcounter\u001b[0m\u001b[1;33m)\u001b[0m\u001b[1;33m\u001b[0m\u001b[1;33m\u001b[0m\u001b[0m\n\u001b[0m\u001b[0;32m     38\u001b[0m \u001b[1;33m\u001b[0m\u001b[0m\n",
      "\u001b[1;31mNameError\u001b[0m: name 'ptint' is not defined"
     ]
    }
   ],
   "source": [
    "soup = BeautifulSoup(response.content, \"html.parser\")\n",
    "links = soup.find_all(\"a\",attrs = {\"class\":\"_2Xp0TH\"})\n",
    "# print(links)\n",
    "counter = 0\n",
    "for link in links:\n",
    "    _link = requests.get(\"https://www.flipkart.com/mobiles/pr?sid=tyy,4io&marketplace=FLIPKART\")\n",
    "    content = BeautifulSoup(_link.content, \"html.parser\")\n",
    "    cards = content.find_all(\"div\",attrs = {\"class\":\"_1UoZlX\"})\n",
    "    for card in cards:\n",
    "        counter +=1\n",
    "        title_div = card.find(\"div\",attrs={\"class\":\"_3wU53n\"})\n",
    "        title_text = title_div.text\n",
    "\n",
    "        price_div = card.find(\"div\",attrs={\"class\":\"_2rQ-NK\"})\n",
    "        price_text = price_div.text\n",
    "\n",
    "        rating_div = card.find(\"div\",attrs = {\"class\":\"hGSR34\"})\n",
    "        rating_text = rating_div.text\n",
    "\n",
    "\n",
    "        detail_page_link = card.find(\"a\",attrs = {\"class\":\"_31qSD5\"})\n",
    "        home_url = \"https://www.flipkart.com\"\n",
    "\n",
    "        mob_page_url = home_url+detail_page_link.get(\"href\")\n",
    "\n",
    "\n",
    "        response3 = requests.get(mob_page_url)\n",
    "\n",
    "\n",
    "        soup3 = BeautifulSoup(response3.content,\"html.parser\")\n",
    "\n",
    "        seller_name = soup3.find(\"div\",attrs = {\"id\":\"sellerName\"})\n",
    "#         seller_text = seller_name.text\n",
    "\n",
    "#         print(\"title : {} , price :  {} , rating :  {} , seller name :  {} \".format(title_text,price_text,rating_text,seller_text))\n",
    "        \n",
    "ptint(counter)\n",
    "    \n"
   ]
  },
  {
   "cell_type": "code",
   "execution_count": null,
   "metadata": {},
   "outputs": [],
   "source": [
    "from os.path  import basename\n",
    "\n",
    "# r = requests.get(\"https://www.pexels.com/collections/cute-animals-17ey6em\")\n",
    "# soup = BeautifulSoup(r.content)\n",
    "\n",
    "# for link in links:\n",
    "#     if \"http\" in link.get('src'):\n",
    "#         lnk = link.get('src')\n",
    "#         with open(basename(lnk), \"wb\") as f:\n",
    "#             f.write(requests.get(lnk).content)"
   ]
  }
 ],
 "metadata": {
  "kernelspec": {
   "display_name": "Python 3",
   "language": "python",
   "name": "python3"
  },
  "language_info": {
   "codemirror_mode": {
    "name": "ipython",
    "version": 3
   },
   "file_extension": ".py",
   "mimetype": "text/x-python",
   "name": "python",
   "nbconvert_exporter": "python",
   "pygments_lexer": "ipython3",
   "version": "3.7.4"
  }
 },
 "nbformat": 4,
 "nbformat_minor": 2
}
