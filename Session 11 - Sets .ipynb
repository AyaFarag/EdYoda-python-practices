{
 "cells": [
  {
   "cell_type": "code",
   "execution_count": 4,
   "metadata": {},
   "outputs": [
    {
     "name": "stdout",
     "output_type": "stream",
     "text": [
      "[10, 20, 30, 50, 80, 100, 90]\n"
     ]
    }
   ],
   "source": [
    "# difine unique list elements\n",
    "l1 = [10,20,10,30,50,30,80,100,90,10]\n",
    "l2 = []\n",
    "for value in l1:\n",
    "    if value not in l2:\n",
    "        l2.append(value)\n",
    "print(l2)"
   ]
  },
  {
   "cell_type": "code",
   "execution_count": 5,
   "metadata": {
    "scrolled": true
   },
   "outputs": [
    {
     "name": "stdout",
     "output_type": "stream",
     "text": [
      "{10, 50, 20, 60, 30}\n"
     ]
    }
   ],
   "source": [
    "# sets save unique elements \n",
    "s = [10,20,10,30,50,60,10,20]\n",
    "s = set(s)\n",
    "print(s)"
   ]
  },
  {
   "cell_type": "code",
   "execution_count": 9,
   "metadata": {},
   "outputs": [
    {
     "name": "stdout",
     "output_type": "stream",
     "text": [
      "\n"
     ]
    }
   ],
   "source": [
    "# math operations:-\n",
    "s1 = [10,20,30,40,50,60]\n",
    "s2 = {10,20,30,40,70,80}\n",
    "s1 union s2 = {10,20,30,40,50,60,70,80}\n",
    "s1 intersection s2\n",
    "s1 difference s2 => all elements in s1 not in s2\n",
    "s1 symmetric difference s2 => all elements in both except commen elements\n"
   ]
  },
  {
   "cell_type": "code",
   "execution_count": 14,
   "metadata": {},
   "outputs": [
    {
     "name": "stdout",
     "output_type": "stream",
     "text": [
      "{70, 40, 10, 80, 50, 20, 60, 30}\n",
      "{40, 10, 20, 30}\n",
      "{50, 60}\n",
      "{80, 50, 70, 60}\n"
     ]
    }
   ],
   "source": [
    "s1 = {10,20,30,40,50,60}\n",
    "s2 = {10,20,30,40,70,80}\n",
    "u = s1.union(s2) #combine and excude unique\n",
    "i = s1.intersection(s2) # commen in both\n",
    "d = s1.difference(s2)  # diff\n",
    "sd = s1.symmetric_difference(s2) #all elements except the commen\n",
    "print(u)\n",
    "print(i)\n",
    "print(d)\n",
    "print(sd)"
   ]
  },
  {
   "cell_type": "code",
   "execution_count": 19,
   "metadata": {},
   "outputs": [
    {
     "name": "stdout",
     "output_type": "stream",
     "text": [
      "False\n",
      "True\n"
     ]
    }
   ],
   "source": [
    "# check if elem is present in set or not\n",
    "s1 = {10,20,30,40}\n",
    "s2 = {10,20,30,40,70,80}\n",
    "print(s2.issubset(s1))\n",
    "print(s2.issuperset(s1))"
   ]
  },
  {
   "cell_type": "code",
   "execution_count": 20,
   "metadata": {},
   "outputs": [
    {
     "name": "stdout",
     "output_type": "stream",
     "text": [
      "c 8\n"
     ]
    }
   ],
   "source": [
    "s = \"aaaaaabbbbbbccccccccdddddddeeeeee\"\n",
    "max_char = \"\"\n",
    "max_count = 0\n",
    "\n",
    "for value in s:\n",
    "    char_count = s.count(value)\n",
    "    if char_count > max_count:\n",
    "        max_char = value\n",
    "        max_count = char_count\n",
    "print(max_char,max_count)"
   ]
  },
  {
   "cell_type": "code",
   "execution_count": 24,
   "metadata": {},
   "outputs": [
    {
     "name": "stdout",
     "output_type": "stream",
     "text": [
      "\n"
     ]
    }
   ],
   "source": [
    "s = \"aaaaaabbbbbbccccccccdddddddeeeeee\"\n",
    "s1 = set(s)\n",
    "max_char = \"\"\n",
    "max_count = 0\n",
    "\n",
    "for value in s:\n",
    "    char_count = s1.count(value)\n",
    "    if char_count > max_count:\n",
    "        max_char = value\n",
    "        max_count = char_count\n",
    "print(b)"
   ]
  },
  {
   "cell_type": "code",
   "execution_count": 27,
   "metadata": {},
   "outputs": [],
   "source": [
    "import random"
   ]
  },
  {
   "cell_type": "code",
   "execution_count": 36,
   "metadata": {},
   "outputs": [
    {
     "name": "stdout",
     "output_type": "stream",
     "text": [
      "0.20515604111646446\n"
     ]
    }
   ],
   "source": [
    "print(random.random())"
   ]
  },
  {
   "cell_type": "code",
   "execution_count": 60,
   "metadata": {},
   "outputs": [
    {
     "name": "stdout",
     "output_type": "stream",
     "text": [
      "16\n",
      "15\n"
     ]
    }
   ],
   "source": [
    "print(random.randint(10,20))   #20 will be included\n",
    "print(random.randrange(10,20)) # 20 not inncluded"
   ]
  },
  {
   "cell_type": "code",
   "execution_count": 54,
   "metadata": {},
   "outputs": [
    {
     "name": "stdout",
     "output_type": "stream",
     "text": [
      "3\n"
     ]
    }
   ],
   "source": [
    "dic = [1,2,3,4,5,6]\n",
    "print(random.choice(dic))"
   ]
  },
  {
   "cell_type": "code",
   "execution_count": null,
   "metadata": {},
   "outputs": [],
   "source": [
    "# char log default password\n",
    "# 1.upper case letter\n",
    "# 2.lower case letter\n",
    "# 3.special char\n",
    "# 4.five digits\n",
    "upper = chr(random.randint(ord('A'),ord('Z')))\n",
    "lower = chr(random.randint(ord('a'),ord('z')))\n",
    "all_chars = ['@','#','$','*']\n",
    "spicial = random.choice(all_chars)\n",
    "digits = str(random.randint(10000,99999))\n",
    "\n",
    "password = upper+lower+spicial+digits\n",
    "pass_validate = random.sample(password,8)\n",
    "value = input(\"password: \")\n",
    "if value is pass_validate:\n",
    "    print(password)"
   ]
  },
  {
   "cell_type": "code",
   "execution_count": 62,
   "metadata": {},
   "outputs": [
    {
     "name": "stdout",
     "output_type": "stream",
     "text": [
      "97\n",
      "a\n"
     ]
    }
   ],
   "source": [
    "print(ord('a'))\n",
    "print(chr(97))"
   ]
  },
  {
   "cell_type": "code",
   "execution_count": 73,
   "metadata": {},
   "outputs": [
    {
     "name": "stdout",
     "output_type": "stream",
     "text": [
      "Help on method sample in module random:\n",
      "\n",
      "sample(population, k) method of random.Random instance\n",
      "    Chooses k unique random elements from a population sequence or set.\n",
      "    \n",
      "    Returns a new list containing elements from the population while\n",
      "    leaving the original population unchanged.  The resulting list is\n",
      "    in selection order so that all sub-slices will also be valid random\n",
      "    samples.  This allows raffle winners (the sample) to be partitioned\n",
      "    into grand prize and second place winners (the subslices).\n",
      "    \n",
      "    Members of the population need not be hashable or unique.  If the\n",
      "    population contains repeats, then each occurrence is a possible\n",
      "    selection in the sample.\n",
      "    \n",
      "    To choose a sample in a range of integers, use range as an argument.\n",
      "    This is especially fast and space efficient for sampling from a\n",
      "    large population:   sample(range(10000000), 60)\n",
      "\n"
     ]
    }
   ],
   "source": [
    "help(random.sample)"
   ]
  }
 ],
 "metadata": {
  "kernelspec": {
   "display_name": "Python 3",
   "language": "python",
   "name": "python3"
  },
  "language_info": {
   "codemirror_mode": {
    "name": "ipython",
    "version": 3
   },
   "file_extension": ".py",
   "mimetype": "text/x-python",
   "name": "python",
   "nbconvert_exporter": "python",
   "pygments_lexer": "ipython3",
   "version": "3.7.4"
  }
 },
 "nbformat": 4,
 "nbformat_minor": 2
}
