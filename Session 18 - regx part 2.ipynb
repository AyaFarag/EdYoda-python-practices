{
 "cells": [
  {
   "cell_type": "code",
   "execution_count": 1,
   "metadata": {},
   "outputs": [],
   "source": [
    "import re"
   ]
  },
  {
   "cell_type": "code",
   "execution_count": null,
   "metadata": {},
   "outputs": [],
   "source": [
    "# email regx\n",
    "s = \"abce@fggv.com\"\n",
    "email = \"^[a-z]+@+[a-z].+[a-z]\"\n",
    "email = \"\\w+(\\.\\w+)?(\\_\\w+)?@\\w+\\w{2,3}\"\n",
    "email = \"\"\n",
    "r = re.compile(email)\n",
    "m = re.search(r,s)\n",
    "if m:\n",
    "    print(m.group())\n",
    "else:\n",
    "    print(\"invalid pattern\")\n",
    "\n"
   ]
  },
  {
   "cell_type": "code",
   "execution_count": null,
   "metadata": {},
   "outputs": [],
   "source": [
    "s = \"the code is available here https://www.github.com/edyoda/ds/a.ipynb or http://www.edyoda.com/code/ds/a.ipynb\"\n",
    "r = re.compile(\"https?://www\\.[a-z0-9-]+(\\.[a-z]{2,3})+(/[a-z0-9]+(\\.?[a-z0-9]+)*)*\")\n",
    "m = re.search(r,s)\n",
    "if m:\n",
    "    print(m.group())\n",
    "else:\n",
    "    print(\"Invalid url\")\n"
   ]
  }
 ],
 "metadata": {
  "kernelspec": {
   "display_name": "Python 3",
   "language": "python",
   "name": "python3"
  },
  "language_info": {
   "codemirror_mode": {
    "name": "ipython",
    "version": 3
   },
   "file_extension": ".py",
   "mimetype": "text/x-python",
   "name": "python",
   "nbconvert_exporter": "python",
   "pygments_lexer": "ipython3",
   "version": "3.7.4"
  }
 },
 "nbformat": 4,
 "nbformat_minor": 2
}
