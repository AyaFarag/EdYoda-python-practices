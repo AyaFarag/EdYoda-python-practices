{
 "cells": [
  {
   "cell_type": "code",
   "execution_count": null,
   "metadata": {},
   "outputs": [],
   "source": [
    "approch :\n",
    "    1.Empty dict to store data\n",
    "    2.generate range number for ascii char\n",
    "    3.generate char for every char\n",
    "    4.iterate over the range and push values into dist"
   ]
  },
  {
   "cell_type": "code",
   "execution_count": 2,
   "metadata": {},
   "outputs": [
    {
     "name": "stdout",
     "output_type": "stream",
     "text": [
      "{'a': 97, 'b': 98, 'c': 99, 'd': 100, 'e': 101, 'f': 102, 'g': 103, 'h': 104, 'i': 105, 'j': 106, 'k': 107, 'l': 108, 'm': 109, 'n': 110, 'o': 111, 'p': 112, 'q': 113, 'r': 114, 's': 115, 't': 116, 'u': 117, 'v': 118, 'w': 119, 'x': 120, 'y': 121, 'z': 122}\n"
     ]
    }
   ],
   "source": [
    "d = {}\n",
    "ascii = range(ord('a'),ord('z')+1)\n",
    "\n",
    "for value in ascii:\n",
    "    d.setdefault(chr(value), value)\n",
    "print(d)"
   ]
  },
  {
   "cell_type": "code",
   "execution_count": null,
   "metadata": {},
   "outputs": [],
   "source": [
    "d ={}\n",
    "l = [15,12,14,18,16,15,12,14,1,7,1,9,4,12,41,25]\n",
    "d = {(1,10):5,(11,20):5,(21,30):5,......(91,100):5}\n",
    "approch :\n",
    "    0.define empty dict to add value into it\n",
    "    1.set range numbers for every 10 numbers\n",
    "    2.iterate them\n",
    "    3.count numbers for every iteration\n",
    "    4.push every iteration in empty dict\n",
    "    "
   ]
  },
  {
   "cell_type": "code",
   "execution_count": 33,
   "metadata": {},
   "outputs": [
    {
     "name": "stdout",
     "output_type": "stream",
     "text": [
      "{(1, 10): 5, (11, 20): 9, (21, 30): 1, (31, 40): 0, (41, 50): 1, (51, 60): 0, (61, 70): 0, (71, 80): 0, (81, 90): 0, (91, 100): 0}\n"
     ]
    }
   ],
   "source": [
    "l = [15,12,14,18,16,15,12,14,1,7,1,9,4,12,41,25]\n",
    "d = {}\n",
    "index_range = range(1,100,10)\n",
    "\n",
    "for index in index_range:\n",
    "    d.setdefault((index,index+9),0)\n",
    "\n",
    "\n",
    "for key in l:\n",
    "    for value in d:\n",
    "        if key >= value[0] and key <= value[1]:\n",
    "            d[value] +=1\n",
    "print(d)"
   ]
  }
 ],
 "metadata": {
  "kernelspec": {
   "display_name": "Python 3",
   "language": "python",
   "name": "python3"
  },
  "language_info": {
   "codemirror_mode": {
    "name": "ipython",
    "version": 3
   },
   "file_extension": ".py",
   "mimetype": "text/x-python",
   "name": "python",
   "nbconvert_exporter": "python",
   "pygments_lexer": "ipython3",
   "version": "3.7.4"
  }
 },
 "nbformat": 4,
 "nbformat_minor": 2
}
