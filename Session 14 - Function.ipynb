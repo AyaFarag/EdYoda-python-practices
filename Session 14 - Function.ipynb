{
 "cells": [
  {
   "cell_type": "code",
   "execution_count": null,
   "metadata": {},
   "outputs": [],
   "source": [
    "# function drfination \n",
    "\n",
    "def function_name(arg1,arg2):\n",
    "    statements\n",
    "    \n",
    "# call the func\n",
    "function_name(arg1,arg2)"
   ]
  },
  {
   "cell_type": "code",
   "execution_count": 8,
   "metadata": {},
   "outputs": [
    {
     "name": "stdout",
     "output_type": "stream",
     "text": [
      "True\n"
     ]
    }
   ],
   "source": [
    "# ckeck if given string is capitalize or not\n",
    "s1 = \"Python is easy to learn\"\n",
    "def iscapitalize(s):\n",
    "    if s == s.capitalize():\n",
    "        return True\n",
    "    else:\n",
    "        return False\n",
    "    \n",
    "result = iscapitalize(s1)\n",
    "print(result)"
   ]
  },
  {
   "cell_type": "code",
   "execution_count": 38,
   "metadata": {},
   "outputs": [
    {
     "name": "stdout",
     "output_type": "stream",
     "text": [
      "1002\n"
     ]
    }
   ],
   "source": [
    "l = [10,101,200,1002,400,50,989,90,4004]\n",
    "\n",
    "def desc_max(l,index):\n",
    "    l2 = sorted(set(l))\n",
    "    return l2[-index]\n",
    "\n",
    "\n",
    "element = desc_max(l,2)\n",
    "print(element)"
   ]
  },
  {
   "cell_type": "code",
   "execution_count": 39,
   "metadata": {},
   "outputs": [
    {
     "name": "stdout",
     "output_type": "stream",
     "text": [
      "Help on built-in function print in module builtins:\n",
      "\n",
      "print(...)\n",
      "    print(value, ..., sep=' ', end='\\n', file=sys.stdout, flush=False)\n",
      "    \n",
      "    Prints the values to a stream, or to sys.stdout by default.\n",
      "    Optional keyword arguments:\n",
      "    file:  a file-like object (stream); defaults to the current sys.stdout.\n",
      "    sep:   string inserted between values, default a space.\n",
      "    end:   string appended after the last value, default a newline.\n",
      "    flush: whether to forcibly flush the stream.\n",
      "\n"
     ]
    }
   ],
   "source": [
    "help(print)"
   ]
  },
  {
   "cell_type": "code",
   "execution_count": null,
   "metadata": {},
   "outputs": [],
   "source": [
    "#  parameter passing techniques\n",
    "    1. positional args\n",
    "    2. default args\n",
    "    3. variable lenghth positional args => packing\n",
    "    4. keyword args"
   ]
  }
 ],
 "metadata": {
  "kernelspec": {
   "display_name": "Python 3",
   "language": "python",
   "name": "python3"
  },
  "language_info": {
   "codemirror_mode": {
    "name": "ipython",
    "version": 3
   },
   "file_extension": ".py",
   "mimetype": "text/x-python",
   "name": "python",
   "nbconvert_exporter": "python",
   "pygments_lexer": "ipython3",
   "version": "3.7.4"
  }
 },
 "nbformat": 4,
 "nbformat_minor": 2
}
