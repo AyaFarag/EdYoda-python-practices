{
 "cells": [
  {
   "cell_type": "code",
   "execution_count": 10,
   "metadata": {},
   "outputs": [],
   "source": [
    "# binary search \n",
    "l= [10,20,30,40,50,60,70,80,90]\n",
    "key = 100\n",
    "\n",
    "def search_binary_key(l,key):\n",
    "    if not l:\n",
    "        return False   # doesnt return false or true\n",
    "    else:\n",
    "        mid_index = len(l) // 2\n",
    "        if key == l[mid_index]:\n",
    "            return True\n",
    "        elif key < l[mid_index]:\n",
    "            search_binary_key(l[:mid_index], key)\n",
    "        else:\n",
    "            search_binary_key(l[mid_index+1:], key)\n",
    "            \n",
    "search_binary_key(l,key)"
   ]
  },
  {
   "cell_type": "code",
   "execution_count": null,
   "metadata": {},
   "outputs": [],
   "source": []
  }
 ],
 "metadata": {
  "kernelspec": {
   "display_name": "Python 3",
   "language": "python",
   "name": "python3"
  },
  "language_info": {
   "codemirror_mode": {
    "name": "ipython",
    "version": 3
   },
   "file_extension": ".py",
   "mimetype": "text/x-python",
   "name": "python",
   "nbconvert_exporter": "python",
   "pygments_lexer": "ipython3",
   "version": "3.7.4"
  }
 },
 "nbformat": 4,
 "nbformat_minor": 2
}
