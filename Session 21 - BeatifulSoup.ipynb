{
 "cells": [
  {
   "cell_type": "code",
   "execution_count": 27,
   "metadata": {},
   "outputs": [],
   "source": [
    "import requests"
   ]
  },
  {
   "cell_type": "code",
   "execution_count": 28,
   "metadata": {},
   "outputs": [],
   "source": [
    "from bs4 import BeautifulSoup"
   ]
  },
  {
   "cell_type": "code",
   "execution_count": 30,
   "metadata": {},
   "outputs": [
    {
     "name": "stdout",
     "output_type": "stream",
     "text": [
      "<Response [200]>\n"
     ]
    }
   ],
   "source": [
    "response = requests.get(\"https://www.flipkart.com/mobiles/pr?sid=tyy,4io&marketplace=FLIPKART\")\n",
    "print(response)\n",
    "                        "
   ]
  },
  {
   "cell_type": "code",
   "execution_count": null,
   "metadata": {},
   "outputs": [],
   "source": [
    "print(response.content)"
   ]
  },
  {
   "cell_type": "code",
   "execution_count": null,
   "metadata": {},
   "outputs": [],
   "source": [
    "soup = BeatifulSoup(response.content, \"html.parser\")"
   ]
  },
  {
   "cell_type": "code",
   "execution_count": null,
   "metadata": {},
   "outputs": [],
   "source": [
    "https://www.pexels.com/collections/cute-animals-17ey6em/\n"
   ]
  },
  {
   "cell_type": "code",
   "execution_count": null,
   "metadata": {},
   "outputs": [],
   "source": [
    "https://www.imdb.com/movies-coming-soon/2020-03/\n"
   ]
  },
  {
   "cell_type": "code",
   "execution_count": 35,
   "metadata": {},
   "outputs": [],
   "source": [
    "soup = BeautifulSoup(response.content,\"html.parser\")"
   ]
  },
  {
   "cell_type": "code",
   "execution_count": null,
   "metadata": {},
   "outputs": [],
   "source": [
    "find(\"div\")\n",
    "find_all(\"div\")\n",
    "\n",
    "find_parent(\"a\")\n",
    "find_parents(\"a\")"
   ]
  },
  {
   "cell_type": "code",
   "execution_count": null,
   "metadata": {},
   "outputs": [],
   "source": [
    "# fetch data from one page"
   ]
  },
  {
   "cell_type": "code",
   "execution_count": 36,
   "metadata": {},
   "outputs": [
    {
     "name": "stdout",
     "output_type": "stream",
     "text": [
      "Realme 5i (Forest Green, 64 GB) ₹8,999 4.6 Vision Star4.9\n",
      "Realme 5i (Aqua Blue, 64 GB) ₹8,999 4.6 Vision Star4.9\n",
      "Redmi 8 (Sapphire Blue, 64 GB) ₹7,999 4.4 Flashstar Commerce4.8\n",
      "Realme 5s (Crystal Blue, 64 GB) ₹9,999 4.4 Vision Star4.9\n",
      "Infinix Hot 8 (Shark Grey, 64 GB) ₹6,999 4.5 Flashstar Commerce4.8\n",
      "Redmi 8 (Onyx Black, 64 GB) ₹7,999 4.4 Flashstar Commerce4.8\n",
      "Redmi 8 (Ruby Red, 64 GB) ₹7,999 4.4 Flashstar Commerce4.8\n",
      "Realme 5s (Crystal Blue, 128 GB) ₹10,999 4.4 Vision Star4.9\n",
      "Realme 5s (Crystal Purple, 128 GB) ₹10,999 4.4 Vision Star4.9\n",
      "Realme 5s (Crystal Purple, 64 GB) ₹9,999 4.4 Vision Star4.9\n",
      "Infinix Hot 8 (Cosmic Purple, 64 GB) ₹6,999 4.5 Flashstar Commerce4.8\n",
      "Infinix Hot 8 (Quetzal Cyan, 64 GB) ₹6,999 4.5 Flashstar Commerce4.8\n",
      "Realme C2 (Diamond Blue, 32 GB) ₹5,999 4.4 Vision Star4.9\n",
      "I Kall K900 (Dark Blue, 64 GB) ₹4,499 4 ALPHARADIOS3.2\n",
      "Realme C2 (Diamond Black, 32 GB) ₹5,999 4.4 Vision Star4.9\n",
      "Realme C2 (Diamond Ruby, 32 GB) ₹7,499 4.3 Vision Star4.9\n",
      "Redmi Note 7 Pro (Neptune Blue, 64 GB) ₹9,999 4.5 Flashstar Commerce4.8\n",
      "Redmi 8A (Ocean Blue, 32 GB) ₹6,999 4.4 Flashstar Commerce4.8\n",
      "Redmi 7A (Matte Blue, 32 GB) ₹5,499 4.3 Flashstar Commerce4.8\n",
      "I Kall K900 (Sky Blue, 64 GB) ₹4,499 4 ALPHARADIOS3.2\n",
      "Realme C2 (Diamond Blue, 32 GB) ₹7,499 4.3 Vision Star4.9\n",
      "Redmi 8A (Ocean Blue, 32 GB) ₹6,499 4.4 Flashstar Commerce4.8\n",
      "Realme C2 (Diamond Black, 32 GB) ₹7,499 4.3 Vision Star4.9\n",
      "Zen Admire Shine (Champagne, 8 GB) ₹2,299 3.7 riaanenterprises4.1\n"
     ]
    }
   ],
   "source": [
    "cards = soup.find_all(\"div\",attrs = {\"class\":\"_1UoZlX\"})\n",
    "\n",
    "for card in cards:\n",
    "\n",
    "    title_div = card.find(\"div\",attrs={\"class\":\"_3wU53n\"})\n",
    "    title_text = title_div.text\n",
    "\n",
    "    price_div = card.find(\"div\",attrs={\"class\":\"_2rQ-NK\"})\n",
    "    price_text = price_div.text\n",
    "\n",
    "    rating_div = card.find(\"div\",attrs = {\"class\":\"hGSR34\"})\n",
    "    rating_text = rating_div.text\n",
    "\n",
    "\n",
    "    detail_page_link = card.find(\"a\",attrs = {\"class\":\"_31qSD5\"})\n",
    "    home_url = \"https://www.flipkart.com\"\n",
    "\n",
    "    mob_page_url = home_url+detail_page_link.get(\"href\")\n",
    "\n",
    "\n",
    "    response3 = requests.get(mob_page_url)\n",
    "\n",
    "\n",
    "    soup3 = BeautifulSoup(response3.content,\"html.parser\")\n",
    "\n",
    "    seller_name = soup3.find(\"div\",attrs = {\"id\":\"sellerName\"})\n",
    "    seller_text = seller_name.text\n",
    "\n",
    "    print(\"{} {} {} {}\".format(title_text,price_text,rating_text,seller_text))"
   ]
  },
  {
   "cell_type": "code",
   "execution_count": null,
   "metadata": {},
   "outputs": [],
   "source": [
    "# assignment is :-\n",
    "#   fetch data from all pages\n",
    "#   try to download images from pexel site\n",
    "#   fetch data from movies over the whole years"
   ]
  }
 ],
 "metadata": {
  "kernelspec": {
   "display_name": "Python 3",
   "language": "python",
   "name": "python3"
  },
  "language_info": {
   "codemirror_mode": {
    "name": "ipython",
    "version": 3
   },
   "file_extension": ".py",
   "mimetype": "text/x-python",
   "name": "python",
   "nbconvert_exporter": "python",
   "pygments_lexer": "ipython3",
   "version": "3.7.4"
  }
 },
 "nbformat": 4,
 "nbformat_minor": 2
}
